{
 "cells": [
  {
   "cell_type": "code",
   "execution_count": null,
   "id": "9629127f-4ac8-4db3-b1d5-3a248ea8453a",
   "metadata": {},
   "outputs": [],
   "source": []
  }
 ],
 "metadata": {
  "kernelspec": {
   "display_name": "",
   "name": ""
  },
  "language_info": {
   "name": ""
  }
 },
 "nbformat": 4,
 "nbformat_minor": 5
}
