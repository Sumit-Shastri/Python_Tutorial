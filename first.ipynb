{
 "cells": [
  {
   "cell_type": "code",
   "execution_count": 1,
   "id": "18b15257-2244-414e-a392-c43976864b4d",
   "metadata": {},
   "outputs": [
    {
     "name": "stdout",
     "output_type": "stream",
     "text": [
      "3.12.3 (main, Aug 14 2025, 17:47:21) [GCC 13.3.0]\n"
     ]
    }
   ],
   "source": [
    "import sys\n",
    "\n",
    "print(sys.version)"
   ]
  },
  {
   "cell_type": "code",
   "execution_count": 2,
   "id": "32fffab9-941d-42da-9676-7e4f720df925",
   "metadata": {},
   "outputs": [
    {
     "name": "stdout",
     "output_type": "stream",
     "text": [
      "5\n",
      "Sumit\n"
     ]
    }
   ],
   "source": [
    "x = 5\n",
    "y = \"Sumit\"\n",
    "print(x)\n",
    "print(y)"
   ]
  },
  {
   "cell_type": "code",
   "execution_count": 22,
   "id": "9445e122-b449-484e-8296-df0f10d18faa",
   "metadata": {},
   "outputs": [
    {
     "name": "stdout",
     "output_type": "stream",
     "text": [
      "frozenset({'Cherry', 'apple', 'banana'})\n",
      "b'Hello'\n",
      "bytearray(b'\\x00\\x00\\x00\\x00\\x00')\n",
      "<memory at 0x7f167811b580>\n"
     ]
    }
   ],
   "source": [
    "class data:\n",
    "        a = \"Sumit\"\n",
    "        b = 25\n",
    "        c = 25.25\n",
    "        d = 67j\n",
    "        e = [\"apple\", \"banana\" , \"Cherry\"] \n",
    "        f = (\"apple\",\"banana\",\"Cherry\")\n",
    "        g = range(0,10)\n",
    "        h = {\"name\":\"Sumit\",\"Age\":25}\n",
    "        i = {\"apple\",\"banana\",\"Cherry\"}\n",
    "        j = frozenset({\"apple\",\"banana\",\"Cherry\"})\n",
    "        k = True\n",
    "        l = b\"Hello\"\n",
    "        m = bytearray(5)\n",
    "        n = memoryview(bytes(5))\n",
    "        o = None\n",
    "\n",
    "        list = [\"a\",\"b\",\"c\",\"d\",\"e\",\"f\",\"g\",\"h\",\"i\",\"j\",\"k\",\"l\",\"m\",\"n\",\"o\"]\n",
    "datalist = data()\n",
    "print(data.j)\n",
    "print(data.l)\n",
    "print(data.m)\n",
    "print(data.n)\n",
    "\n"
   ]
  },
  {
   "cell_type": "code",
   "execution_count": null,
   "id": "fdf8e5a3-9695-4b78-a0f6-cc42268bd6f5",
   "metadata": {},
   "outputs": [],
   "source": []
  }
 ],
 "metadata": {
  "kernelspec": {
   "display_name": "Python 3 (ipykernel)",
   "language": "python",
   "name": "python3"
  },
  "language_info": {
   "codemirror_mode": {
    "name": "ipython",
    "version": 3
   },
   "file_extension": ".py",
   "mimetype": "text/x-python",
   "name": "python",
   "nbconvert_exporter": "python",
   "pygments_lexer": "ipython3",
   "version": "3.12.3"
  }
 },
 "nbformat": 4,
 "nbformat_minor": 5
}
